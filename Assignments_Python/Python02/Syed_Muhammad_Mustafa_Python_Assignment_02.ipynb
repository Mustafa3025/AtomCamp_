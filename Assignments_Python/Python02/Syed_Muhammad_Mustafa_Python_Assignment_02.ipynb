{
 "cells": [
  {
   "cell_type": "markdown",
   "metadata": {},
   "source": [
    "Task 1: Dictionary Operations \n"
   ]
  },
  {
   "cell_type": "markdown",
   "metadata": {},
   "source": [
    "Create a dictionary named 'capitals' with key-value pairs for countries and their capitals.  Print the dictionary. \n",
    "Add a new country and its capital to the 'capitals' dictionary. Print the updated dictionary. Check if 'France' exists in the 'capitals' dictionary and print an appropriate message. "
   ]
  },
  {
   "cell_type": "code",
   "execution_count": 3,
   "metadata": {},
   "outputs": [
    {
     "name": "stdout",
     "output_type": "stream",
     "text": [
      "France exists in the dictionary\n"
     ]
    }
   ],
   "source": [
    "#Task 1: Dictionary Operations\n",
    "capitals = {\n",
    "    'Pakistan': 'Islamabad',\n",
    "    'India': 'New Delhi',\n",
    "    'UAE': 'Abu Dhabi',\n",
    "    'Afghanistan': 'Kabul'\n",
    "}\n",
    "\n",
    "#print(capitals)\n",
    "\n",
    "capitals['France'] = 'Paris'\n",
    "#print(capitals)\n",
    "\n",
    "if 'France' in capitals:\n",
    "    print(\"France exists in the dictionary\")\n",
    "else:\n",
    "    print(\"France does not exist in the dictionary\")\n"
   ]
  },
  {
   "cell_type": "code",
   "execution_count": 4,
   "metadata": {},
   "outputs": [
    {
     "name": "stdout",
     "output_type": "stream",
     "text": [
      "France does not exist in the dictionary\n"
     ]
    }
   ],
   "source": [
    "    \n",
    "del capitals['France'] \n",
    "\n",
    "\n",
    "if 'France' in capitals:\n",
    "    print(\"France exists in the dictionary\")\n",
    "else:\n",
    "    print(\"France does not exist in the dictionary\")\n",
    "    \n",
    "    \n"
   ]
  },
  {
   "cell_type": "markdown",
   "metadata": {},
   "source": [
    "Task 2: Comparison Operators, Logical Operators, and If/Else \n"
   ]
  },
  {
   "cell_type": "markdown",
   "metadata": {},
   "source": [
    "Create a variable for user input and write code to check if the number is even or odd. Print  the result."
   ]
  },
  {
   "cell_type": "code",
   "execution_count": 2,
   "metadata": {},
   "outputs": [
    {
     "name": "stdout",
     "output_type": "stream",
     "text": [
      "The number is not an even number\n"
     ]
    }
   ],
   "source": [
    "#Task 2: Comparison Operators, Logical Operators, and If/Else \n",
    "user_input = int(input(\"Enter a number to check\"))\n",
    "if user_input % 2 == 0:\n",
    "    print(\"The number is an even number\")\n",
    "else:\n",
    "    print(\"The number is not an even number\")"
   ]
  },
  {
   "cell_type": "markdown",
   "metadata": {},
   "source": [
    "Create variables for age and GPA. Write code to check eligibility for admission based on  certain conditions. Print the result. "
   ]
  },
  {
   "cell_type": "code",
   "execution_count": 39,
   "metadata": {},
   "outputs": [
    {
     "name": "stdout",
     "output_type": "stream",
     "text": [
      "The criteria for admission is minimum age 20 and minimum GPA 3.0\n",
      "Your entered age 15, and GPA 4.0\n",
      "Not eligible for admission\n"
     ]
    }
   ],
   "source": [
    "user_input = int(input(\"Enter your age\"))\n",
    "age = user_input\n",
    "user_input = float(input(\"Enter your GPA\"))\n",
    "gpa = user_input\n",
    "\n",
    "criteria = {\n",
    "    'Age' : 20,\n",
    "    'GPA' : 3.00\n",
    "}\n",
    "\n",
    "print(f\"The criteria for admission is minimum age {criteria['Age']} and minimum GPA {criteria['GPA']}\")\n",
    "print(f\"Your entered age {age}, and GPA {gpa}\")\n",
    "if age < 20 and gpa <3.00 :\n",
    "    print(\"Not eligible for admission\")\n",
    "elif age >= 20 and gpa >= 3.00 and gpa <= 4.00:\n",
    "    print(\"Eligible for admission\")\n",
    "elif gpa > 4.00:\n",
    "    print(f\"Invalid GPA :{gpa}\")\n",
    "else:\n",
    "    print(\"Not eligible for admission\")"
   ]
  },
  {
   "cell_type": "markdown",
   "metadata": {},
   "source": [
    "Task 3: Advanced Data Types \n"
   ]
  },
  {
   "cell_type": "markdown",
   "metadata": {},
   "source": [
    "Create a set named 'fruits_set' with certain fruits. Print the set. \n"
   ]
  },
  {
   "cell_type": "markdown",
   "metadata": {},
   "source": [
    "Given two sets, perform various operations like union, intersection, difference, and subset  check. Print the results. \n"
   ]
  },
  {
   "cell_type": "code",
   "execution_count": 21,
   "metadata": {},
   "outputs": [
    {
     "name": "stdout",
     "output_type": "stream",
     "text": [
      "Fruit Set 01 : {'Orange', 'Grapes', 'Banana', 'Apple'}\n",
      "Fruit Set 02 : {'Banana', 'Apple'}\n",
      "Union Set : {'Orange', 'Grapes', 'Banana', 'Apple'}\n",
      "intersection Set : {'Banana', 'Apple'}\n",
      "difference Set : {'Orange', 'Grapes'}\n",
      "Is Fruit Set 02 a subset of Fruit Set 01 ? : True\n",
      "Is Fruit Set 01 a subset of Fruit Set 02 ? : False\n"
     ]
    }
   ],
   "source": [
    "#Task 3: Advanced Data Types \n",
    "fruit_set_01 = {'Apple', 'Banana', 'Orange', 'Grapes'}\n",
    "fruit_set_02 = {'Apple', 'Banana',}\n",
    "\n",
    "print(f\"Fruit Set 01 : {fruit_set_01}\")\n",
    "print(f\"Fruit Set 02 : {fruit_set_02}\")\n",
    "\n",
    "union_set = fruit_set_01 | fruit_set_02\n",
    "print(f\"Union Set : {union_set}\")\n",
    "\n",
    "intersection_set = fruit_set_01 & fruit_set_02\n",
    "print(f\"intersection Set : {intersection_set}\")\n",
    "\n",
    "difference_set = fruit_set_01 - fruit_set_02\n",
    "print(f\"difference Set : {difference_set}\")\n",
    "\n",
    "print(f\"Is Fruit Set 02 a subset of Fruit Set 01 ? : {fruit_set_02.issubset(fruit_set_01)}\")\n",
    "print(f\"Is Fruit Set 01 a subset of Fruit Set 02 ? : {fruit_set_01.issubset(fruit_set_02)}\")\n"
   ]
  },
  {
   "cell_type": "markdown",
   "metadata": {},
   "source": [
    "Task 4: Strings Manipulation \n"
   ]
  },
  {
   "cell_type": "markdown",
   "metadata": {},
   "source": [
    "Create a string variable with a given sentence. Perform various operations like finding  length, converting to uppercase, replacing words, checking for substrings, and splitting into  words. Print the results.\n"
   ]
  },
  {
   "cell_type": "code",
   "execution_count": 37,
   "metadata": {},
   "outputs": [
    {
     "name": "stdout",
     "output_type": "stream",
     "text": [
      "Length of the string you entered : 7\n",
      "Your string uppercased : MUSTAFA\n",
      "Your string uppercased : mustafa\n",
      "Replacing the vowels with a # : Must#f#\n",
      "Substring of your input : saa\n",
      "Your string sperated/broken into sperate letters :  ['M', 'u', 's', 't', 'a', 'f', 'a']\n"
     ]
    }
   ],
   "source": [
    "#Task 4: Strings Manipulation \n",
    "user_input = input(\"Enter something............. : \")\n",
    "print(f\"Length of the string you entered : {len(user_input)}\")\n",
    "print(f\"Your string uppercased : {user_input.upper()}\")\n",
    "print(f\"Your string uppercased : {user_input.lower()}\")\n",
    "print(f\"Replacing the vowels with a # : {user_input.replace('a', '#')}\")\n",
    "print(f\"Substring of your input : {user_input[2::2]}\")\n",
    "print(f\"Your string sperated/broken into sperate letters : \", end = \" \")\n",
    "list = []\n",
    "for i in user_input:\n",
    "    list.append(i)\n",
    "print(list)\n"
   ]
  },
  {
   "cell_type": "code",
   "execution_count": null,
   "metadata": {},
   "outputs": [],
   "source": []
  }
 ],
 "metadata": {
  "kernelspec": {
   "display_name": "Python 3",
   "language": "python",
   "name": "python3"
  },
  "language_info": {
   "codemirror_mode": {
    "name": "ipython",
    "version": 3
   },
   "file_extension": ".py",
   "mimetype": "text/x-python",
   "name": "python",
   "nbconvert_exporter": "python",
   "pygments_lexer": "ipython3",
   "version": "3.12.1"
  }
 },
 "nbformat": 4,
 "nbformat_minor": 2
}
