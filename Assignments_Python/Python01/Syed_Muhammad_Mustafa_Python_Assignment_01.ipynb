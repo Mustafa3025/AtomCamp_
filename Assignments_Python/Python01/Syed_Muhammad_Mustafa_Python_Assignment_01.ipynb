{
 "cells": [
  {
   "cell_type": "markdown",
   "metadata": {},
   "source": [
    "Assignment: Python Basics\n",
    "    Instructions:\n",
    "1. Complete the following tasks based on the concepts covered in the \"Python Basics\" session. Write your Python code in a .py file or use a Jupyter Notebook to solve the problems.\n",
    "2. Ensure that your code is well-commented, and variable names are descriptive.\n",
    "3. If any task requires output, print the result to the console.\n",
    "4. Submit the completed .py file or Jupyter Notebook.\n"
   ]
  },
  {
   "cell_type": "markdown",
   "metadata": {},
   "source": [
    "Task 1: Variables and Data Types\n"
   ]
  },
  {
   "cell_type": "markdown",
   "metadata": {},
   "source": [
    "a) \n",
    "Create three variables: one for storing your age (integer), one for your name (string), and one to check if you are a student (Boolean). Print the variables."
   ]
  },
  {
   "cell_type": "code",
   "execution_count": 1,
   "metadata": {},
   "outputs": [
    {
     "name": "stdout",
     "output_type": "stream",
     "text": [
      "==========================================\n",
      "===============Task=1=====================\n",
      "==========================================\n",
      "(A)\n",
      "Age            :  22\n",
      "Name           :  Mustafa\n",
      "Student Status :  True\n"
     ]
    }
   ],
   "source": [
    "#==================================================\n",
    "#Task 1\n",
    "#==================================================\n",
    "#a\n",
    "\n",
    "print(\"==========================================\")\n",
    "print(\"===============Task=1=====================\")\n",
    "print(\"==========================================\")\n",
    "print(\"(A)\")\n",
    "\n",
    "#user_input = input(\"Enter your age : \")\n",
    "#age = int(user_input)\n",
    "#user_input = input(\"Enter your name : \")\n",
    "#name = user_input\n",
    "#student_flag = True\n",
    "\n",
    "age = 22\n",
    "name = \"Mustafa\"\n",
    "student_flag = True\n",
    "\n",
    "print(\"Age            : \", age)\n",
    "print(\"Name           : \", name)\n",
    "print(\"Student Status : \", student_flag)\n",
    "\n"
   ]
  },
  {
   "cell_type": "markdown",
   "metadata": {},
   "source": [
    "b) \n",
    "Perform the following operations and print the results:\n",
    "   - Add 25 to your age variable.\n",
    "   - Concatenate your name with the string \"Smith.\"\n",
    "   - Negate the Boolean variable (if True, make it False, and vice versa)."
   ]
  },
  {
   "cell_type": "code",
   "execution_count": null,
   "metadata": {},
   "outputs": [],
   "source": [
    "#b\n",
    "\n",
    "print(\"(B)\")\n",
    "\n",
    "#age += 25\n",
    "age = age + 5\n",
    "#name += \" Smith\"\n",
    "name = name + \" Smith\"\n",
    "student_flag = not student_flag\n",
    "\n",
    "print(\"==========================================\")\n",
    "print(\"Age            : \", age)\n",
    "print(\"Name           : \", name)\n",
    "print(\"Student Status : \", student_flag)"
   ]
  },
  {
   "cell_type": "markdown",
   "metadata": {},
   "source": [
    "#Task 2: Expressions and Operators\n",
    "##a) \n",
    "###A rectangle has a width of 5.5 units and a height of 3.25 units. Store width and height in variables. Create a new variable called area and ###write an expression to calculate the area. Print the area in the output. \n",
    "##b) \n",
    "###Create a temperature variable in Celsius. Convert it to Fahrenheit using the formula: F = (C * 9/5) + 32. Store this temperature in a ###variable called Fahrenheit and print this variable.\n",
    "##a) \n",
    "###Create a variable called radius and give it a value of 5. Calculate the area of a circle with this radius and store it in a variable called ###area. Print area at the end of your code. (Use the formula: area = π * radius^2, where π (pi) is approximately 3.14159). \n"
   ]
  },
  {
   "cell_type": "markdown",
   "metadata": {},
   "source": [
    "Task 2: Expressions and Operators\n",
    "\n"
   ]
  },
  {
   "cell_type": "markdown",
   "metadata": {},
   "source": [
    "a) \n",
    "A rectangle has a width of 5.5 units and a height of 3.25 units. Store width and height in variables. Create a new variable called area and write an expression to calculate the area. Print the area in the output. "
   ]
  },
  {
   "cell_type": "code",
   "execution_count": 1,
   "metadata": {},
   "outputs": [
    {
     "name": "stdout",
     "output_type": "stream",
     "text": [
      "                                                                                                                                                                                                                                                                                                            \n",
      "==========================================\n",
      "===============Task=2=====================\n",
      "==========================================\n",
      "(A)\n",
      "Area of rectangle if width  5.5 and height  3.25  is :  17.875\n",
      "                                                                                                                                                      \n"
     ]
    }
   ],
   "source": [
    "\n",
    "#==================================================\n",
    "#Task 2\n",
    "#==================================================\n",
    "#a\n",
    "\n",
    "print(\"      \" * 50)\n",
    "print(\"==========================================\")\n",
    "print(\"===============Task=2=====================\")\n",
    "print(\"==========================================\")\n",
    "print(\"(A)\")\n",
    "\n",
    "width = 5.5\n",
    "height = 3.25\n",
    "area = width * height\n",
    "\n",
    "#print(f\"Area of rectangle of width {width} and height {height} is : {area}\")\n",
    "print(\"Area of rectangle if width \",width, \"and height \", height, \" is : \", area)\n",
    "print(\"      \" * 25)"
   ]
  },
  {
   "cell_type": "markdown",
   "metadata": {},
   "source": [
    "b) \n",
    "Create a temperature variable in Celsius. Convert it to Fahrenheit using the formula: F = (C * 9/5) + 32. Store this temperature in a variable called Fahrenheit and print this variable.\n"
   ]
  },
  {
   "cell_type": "code",
   "execution_count": 2,
   "metadata": {},
   "outputs": [
    {
     "name": "stdout",
     "output_type": "stream",
     "text": [
      "(B)\n",
      "The temperature in celsius : 25 \n",
      "The temperature in fahrenheit : 77.0 \n",
      "                                                                                                                                                      \n"
     ]
    }
   ],
   "source": [
    "#b\n",
    "\n",
    "print(\"(B)\")\n",
    "\n",
    "#celsius = float(input(\"Enter temperature in celsius : \"))\n",
    "celsius = 25\n",
    "fahrenheit = (celsius *(9.0/5.0)) + 32\n",
    "\n",
    "print(f\"The temperature in celsius : {celsius} \")\n",
    "print(f\"The temperature in fahrenheit : {fahrenheit} \")\n",
    "print(\"      \" * 25)"
   ]
  },
  {
   "cell_type": "markdown",
   "metadata": {},
   "source": [
    "c) \n",
    "Create a variable called radius and give it a value of 5. Calculate the area of a circle with this radius and store it in a variable called area. Print area at the end of your code. (Use the formula: area = π * radius^2, where π (pi) is approximately 3.14159). \n"
   ]
  },
  {
   "cell_type": "code",
   "execution_count": 3,
   "metadata": {},
   "outputs": [
    {
     "name": "stdout",
     "output_type": "stream",
     "text": [
      "(C)\n",
      "Area of a circle with radius 5 is : 78.53981633974483\n",
      "                                                                                                                                                                                                                                                          \n"
     ]
    }
   ],
   "source": [
    "#c\n",
    "print(\"(C)\")\n",
    "\n",
    "from math import *\n",
    "radius = 5\n",
    "area_of_circle =  pi * (radius**2)\n",
    "\n",
    "print(f\"Area of a circle with radius {radius} is : {area_of_circle}\")\n",
    "print(\"     \" * 50)"
   ]
  },
  {
   "cell_type": "markdown",
   "metadata": {},
   "source": [
    "\n",
    "Task 3: Introduction to Data Structures\n"
   ]
  },
  {
   "cell_type": "markdown",
   "metadata": {},
   "source": [
    "a) Create a list called \"fruits\" containing the following fruits: \"apple,\" \"banana,\" \"orange,\" \"grape,\" and \"kiwi.\" Print the list."
   ]
  },
  {
   "cell_type": "code",
   "execution_count": 4,
   "metadata": {},
   "outputs": [
    {
     "name": "stdout",
     "output_type": "stream",
     "text": [
      "==========================================\n",
      "===============Task=3=====================\n",
      "==========================================\n",
      "(A)\n",
      "['Apple', 'Banana', 'Orange', 'Grape', 'Kiwi']\n",
      "Type of the fruits list :  <class 'list'>\n",
      "                                                                           \n"
     ]
    }
   ],
   "source": [
    "#==================================================\n",
    "#Task 3\n",
    "#==================================================\n",
    "print(\"==========================================\")\n",
    "print(\"===============Task=3=====================\")\n",
    "print(\"==========================================\")\n",
    "#a\n",
    "print(\"(A)\")\n",
    "\n",
    "fruits = [\"Apple\", \"Banana\", \"Orange\", \"Grape\", \"Kiwi\"]\n",
    "print(fruits)\n",
    "print(\"Type of the fruits list : \",type(fruits))\n",
    "print(\"   \" * 25)"
   ]
  },
  {
   "cell_type": "markdown",
   "metadata": {},
   "source": [
    "b) Create a tuple named \"months\" with the names of the first three months of the year. Print the tuple."
   ]
  },
  {
   "cell_type": "code",
   "execution_count": 6,
   "metadata": {},
   "outputs": [
    {
     "name": "stdout",
     "output_type": "stream",
     "text": [
      "(B)\n",
      "('January', 'February', 'March')\n",
      "Type of the months list :  <class 'tuple'>\n",
      "                                                                                                                                                                                                                                                                                                            \n"
     ]
    }
   ],
   "source": [
    "#b\n",
    "print(\"(B)\")\n",
    "months = (\"January\", \"February\", \"March\")\n",
    "print(months)\n",
    "print(\"Type of the months list : \",type(months))\n",
    "print(\"      \" * 50)"
   ]
  },
  {
   "cell_type": "markdown",
   "metadata": {},
   "source": [
    "Task 4: List Manipulation"
   ]
  },
  {
   "cell_type": "markdown",
   "metadata": {},
   "source": [
    "a) Given the list of numbers below, write a Python program to calculate the sum and average of these numbers. Print both results.\n",
    "   numbers = [12, 34, 45, 67, 89, 100, 23, 56]\n"
   ]
  },
  {
   "cell_type": "code",
   "execution_count": 8,
   "metadata": {},
   "outputs": [
    {
     "name": "stdout",
     "output_type": "stream",
     "text": [
      "Sum of list elements : 426\n",
      "Average of elements in the list : 213.0\n"
     ]
    }
   ],
   "source": [
    "list = [12, 34, 45, 67, 89, 100, 23, 56]\n",
    "sum = 0\n",
    "for i in list:\n",
    "    sum += i\n",
    "print(f\"Sum of list elements : {sum}\")\n",
    "\n",
    "average = float(sum) / 2.0\n",
    "print(f\"Average of elements in the list : {average}\")"
   ]
  },
  {
   "cell_type": "markdown",
   "metadata": {},
   "source": [
    "\n",
    "b) Remove the first and last elements from the \"fruits\" list created earlier. Print the updated list.\n"
   ]
  },
  {
   "cell_type": "code",
   "execution_count": 10,
   "metadata": {},
   "outputs": [
    {
     "name": "stdout",
     "output_type": "stream",
     "text": [
      "['Banana', 'Orange', 'Grape', 'Kiwi']\n"
     ]
    }
   ],
   "source": [
    "fruits = [\"Apple\", \"Banana\", \"Orange\", \"Grape\", \"Kiwi\"]\n",
    "fruits = fruits[1:]\n",
    "fruits.pop\n",
    "print(fruits)"
   ]
  },
  {
   "cell_type": "code",
   "execution_count": null,
   "metadata": {},
   "outputs": [],
   "source": []
  }
 ],
 "metadata": {
  "kernelspec": {
   "display_name": "Python 3",
   "language": "python",
   "name": "python3"
  },
  "language_info": {
   "codemirror_mode": {
    "name": "ipython",
    "version": 3
   },
   "file_extension": ".py",
   "mimetype": "text/x-python",
   "name": "python",
   "nbconvert_exporter": "python",
   "pygments_lexer": "ipython3",
   "version": "3.12.1"
  }
 },
 "nbformat": 4,
 "nbformat_minor": 2
}
